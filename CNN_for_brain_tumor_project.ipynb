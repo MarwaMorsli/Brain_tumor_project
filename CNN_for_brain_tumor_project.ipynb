{
  "nbformat": 4,
  "nbformat_minor": 0,
  "metadata": {
    "colab": {
      "provenance": []
    },
    "kernelspec": {
      "name": "python3",
      "display_name": "Python 3"
    }
  },
  "cells": [
    {
      "cell_type": "markdown",
      "metadata": {
        "id": "3DR-eO17geWu"
      },
      "source": [
        "# Brain tumor project"
      ]
    },
    {
      "cell_type": "markdown",
      "source": [
        "**Project Overview and Objectives**\n",
        "\n",
        "The main purpose of this project was to build a CNN model that would classify if subject has a tumor or not base on MRI scan. I used the VGG-16 model architecture and weights to train the model for this binary problem. I used accuracy as a metric to justify the model performance which can be defined as:\n",
        "\n",
        "Accuracy=Number of correclty predicted /imagesTotal number of tested images × 100%\n",
        "\n",
        "**Data Set Description**\n",
        "\n",
        "The image data that was used for this problem is Brain MRI Images for Brain Tumor Detection. It conists of MRI scans of two classes:\n",
        "\n",
        "\n",
        "*   NO - no tumor, encoded as 0\n",
        "*   YES - tumor, encoded as 1\n",
        "\n",
        "Unfortunately, the data set description doesn't hold any information where this MRI scans come from and so on.\n",
        "\n",
        "**What is Brain Tumor?**\n",
        "\n",
        "\n",
        "A brain tumor occurs when abnormal cells form within the brain. There are two main types of tumors: cancerous (malignant) tumors and benign tumors. Cancerous tumors can be divided into primary tumors, which start within the brain, and secondary tumors, which have spread from elsewhere, known as brain metastasis tumors. All types of brain tumors may produce symptoms that vary depending on the part of the brain involved. These symptoms may include headaches, seizures, problems with vision, vomiting and mental changes. The headache is classically worse in the morning and goes away with vomiting. Other symptoms may include difficulty walking, speaking or with sensations. As the disease progresses, unconsciousness may occur.\n",
        "\n",
        "\n",
        "![Y2.jpg](data:image/jpeg;base64,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)\n"
      ],
      "metadata": {
        "id": "RyNcq17cLqWU"
      }
    },
    {
      "cell_type": "markdown",
      "metadata": {
        "id": "EMefrVPCg-60"
      },
      "source": [
        "### Importing the libraries"
      ]
    },
    {
      "cell_type": "code",
      "metadata": {
        "id": "sCV30xyVhFbE"
      },
      "source": [
        "import tensorflow as tf\n",
        "from keras.preprocessing.image import ImageDataGenerator\n",
        "\n",
        "\n",
        "import warnings\n",
        "warnings.filterwarnings('ignore')"
      ],
      "execution_count": null,
      "outputs": []
    },
    {
      "cell_type": "code",
      "metadata": {
        "id": "FIleuCAjoFD8",
        "colab": {
          "base_uri": "https://localhost:8080/",
          "height": 36
        },
        "outputId": "f47fbb91-16d0-406e-f994-6d6060fec978"
      },
      "source": [
        "tf.__version__"
      ],
      "execution_count": null,
      "outputs": [
        {
          "output_type": "execute_result",
          "data": {
            "text/plain": [
              "'2.11.0'"
            ],
            "application/vnd.google.colaboratory.intrinsic+json": {
              "type": "string"
            }
          },
          "metadata": {},
          "execution_count": 119
        }
      ]
    },
    {
      "cell_type": "markdown",
      "metadata": {
        "id": "oxQxCBWyoGPE"
      },
      "source": [
        "## Part 1 - Data Preprocessing"
      ]
    },
    {
      "cell_type": "markdown",
      "metadata": {
        "id": "MvE-heJNo3GG"
      },
      "source": [
        "### Preprocessing the Training set"
      ]
    },
    {
      "cell_type": "code",
      "source": [
        "from google.colab import drive\n",
        "drive.mount('/content/drive')"
      ],
      "metadata": {
        "colab": {
          "base_uri": "https://localhost:8080/"
        },
        "id": "n-_DOepE6XNO",
        "outputId": "d9b82b6e-5a9e-4065-c5d3-d319d2590963"
      },
      "execution_count": null,
      "outputs": [
        {
          "output_type": "stream",
          "name": "stdout",
          "text": [
            "Drive already mounted at /content/drive; to attempt to forcibly remount, call drive.mount(\"/content/drive\", force_remount=True).\n"
          ]
        }
      ]
    },
    {
      "cell_type": "code",
      "source": [
        "train_datagen = ImageDataGenerator(rescale = 1./255,\n",
        "                                   shear_range = 0.2,\n",
        "                                   zoom_range = 0.2,\n",
        "                                   horizontal_flip = True)\n",
        "training_set = train_datagen.flow_from_directory('/content/drive/MyDrive/data_brain_tumor/train_set',\n",
        "                                                 target_size = (64, 64),\n",
        "                                                 batch_size = 32,\n",
        "                                                 class_mode = 'binary')"
      ],
      "metadata": {
        "colab": {
          "base_uri": "https://localhost:8080/"
        },
        "id": "QCOA-UUTUkaX",
        "outputId": "6ef7a94a-08f2-46e4-c575-723284d81118"
      },
      "execution_count": null,
      "outputs": [
        {
          "output_type": "stream",
          "name": "stdout",
          "text": [
            "Found 253 images belonging to 2 classes.\n"
          ]
        }
      ]
    },
    {
      "cell_type": "markdown",
      "metadata": {
        "id": "mrCMmGw9pHys"
      },
      "source": [
        "### Preprocessing the Test set"
      ]
    },
    {
      "cell_type": "code",
      "metadata": {
        "id": "SH4WzfOhpKc3",
        "colab": {
          "base_uri": "https://localhost:8080/"
        },
        "outputId": "418777d0-eb16-4ee3-e61b-6dc95d22d175"
      },
      "source": [
        "test_datagen = ImageDataGenerator(rescale = 1./255)\n",
        "\n",
        "testing_set = test_datagen.flow_from_directory('/content/drive/MyDrive/data_brain_tumor/test_set',\n",
        "                                                 target_size = (64, 64),\n",
        "                                                 batch_size = 32,\n",
        "                                                 class_mode = 'binary')"
      ],
      "execution_count": null,
      "outputs": [
        {
          "output_type": "stream",
          "name": "stdout",
          "text": [
            "Found 253 images belonging to 1 classes.\n"
          ]
        }
      ]
    },
    {
      "cell_type": "markdown",
      "metadata": {
        "id": "af8O4l90gk7B"
      },
      "source": [
        "## Part 2 - Building the CNN"
      ]
    },
    {
      "cell_type": "markdown",
      "metadata": {
        "id": "ces1gXY2lmoX"
      },
      "source": [
        "### Initialising the CNN"
      ]
    },
    {
      "cell_type": "code",
      "metadata": {
        "id": "SAUt4UMPlhLS"
      },
      "source": [
        "cnn = tf.keras.models.Sequential()"
      ],
      "execution_count": null,
      "outputs": []
    },
    {
      "cell_type": "markdown",
      "metadata": {
        "id": "u5YJj_XMl5LF"
      },
      "source": [
        "### Step 1 - Convolution"
      ]
    },
    {
      "cell_type": "code",
      "metadata": {
        "id": "XPzPrMckl-hV"
      },
      "source": [
        "cnn.add(tf.keras.layers.Conv2D(filters=32, kernel_size=3, activation='relu', input_shape=[64, 64, 3]))"
      ],
      "execution_count": null,
      "outputs": []
    },
    {
      "cell_type": "markdown",
      "metadata": {
        "id": "tf87FpvxmNOJ"
      },
      "source": [
        "### Step 2 - Pooling"
      ]
    },
    {
      "cell_type": "code",
      "metadata": {
        "id": "ncpqPl69mOac"
      },
      "source": [
        "cnn.add(tf.keras.layers.MaxPool2D(pool_size=2, strides=2))"
      ],
      "execution_count": null,
      "outputs": []
    },
    {
      "cell_type": "markdown",
      "metadata": {
        "id": "xaTOgD8rm4mU"
      },
      "source": [
        "### Adding a second convolutional layer"
      ]
    },
    {
      "cell_type": "code",
      "metadata": {
        "id": "i_-FZjn_m8gk"
      },
      "source": [
        "cnn.add(tf.keras.layers.Conv2D(filters=32, kernel_size=3, activation='relu'))\n",
        "cnn.add(tf.keras.layers.MaxPool2D(pool_size=2, strides=2))"
      ],
      "execution_count": null,
      "outputs": []
    },
    {
      "cell_type": "markdown",
      "metadata": {
        "id": "tmiEuvTunKfk"
      },
      "source": [
        "### Step 3 - Flattening"
      ]
    },
    {
      "cell_type": "code",
      "metadata": {
        "id": "6AZeOGCvnNZn"
      },
      "source": [
        "cnn.add(tf.keras.layers.Flatten())"
      ],
      "execution_count": null,
      "outputs": []
    },
    {
      "cell_type": "markdown",
      "metadata": {
        "id": "dAoSECOm203v"
      },
      "source": [
        "### Step 4 - Full Connection"
      ]
    },
    {
      "cell_type": "code",
      "metadata": {
        "id": "8GtmUlLd26Nq"
      },
      "source": [
        "cnn.add(tf.keras.layers.Dense(units=128, activation='relu'))"
      ],
      "execution_count": null,
      "outputs": []
    },
    {
      "cell_type": "markdown",
      "metadata": {
        "id": "yTldFvbX28Na"
      },
      "source": [
        "### Step 5 - Output Layer"
      ]
    },
    {
      "cell_type": "code",
      "metadata": {
        "id": "1p_Zj1Mc3Ko_"
      },
      "source": [
        "cnn.add(tf.keras.layers.Dense(units=1, activation='sigmoid'))"
      ],
      "execution_count": null,
      "outputs": []
    },
    {
      "cell_type": "markdown",
      "metadata": {
        "id": "D6XkI90snSDl"
      },
      "source": [
        "## Part 3 - Training the CNN"
      ]
    },
    {
      "cell_type": "markdown",
      "metadata": {
        "id": "vfrFQACEnc6i"
      },
      "source": [
        "### Compiling the CNN"
      ]
    },
    {
      "cell_type": "code",
      "metadata": {
        "id": "NALksrNQpUlJ"
      },
      "source": [
        "cnn.compile(optimizer = 'adam', loss = 'binary_crossentropy', metrics = ['accuracy'])"
      ],
      "execution_count": null,
      "outputs": []
    },
    {
      "cell_type": "markdown",
      "metadata": {
        "id": "ehS-v3MIpX2h"
      },
      "source": [
        "### Training the CNN on the Training set and evaluating it on the Test set"
      ]
    },
    {
      "cell_type": "code",
      "metadata": {
        "id": "XUj1W4PJptta",
        "colab": {
          "base_uri": "https://localhost:8080/"
        },
        "outputId": "84649f68-178d-4ea7-b878-ef0b4a7b2b25"
      },
      "source": [
        "cnn.fit(x = training_set, validation_data = test_set, epochs = (30))"
      ],
      "execution_count": null,
      "outputs": [
        {
          "output_type": "stream",
          "name": "stdout",
          "text": [
            "Epoch 1/30\n"
          ]
        },
        {
          "output_type": "stream",
          "name": "stderr",
          "text": [
            "WARNING:tensorflow:AutoGraph could not transform <function Model.make_train_function.<locals>.train_function at 0x7ff46a8228b0> and will run it as-is.\n",
            "Please report this to the TensorFlow team. When filing the bug, set the verbosity to 10 (on Linux, `export AUTOGRAPH_VERBOSITY=10`) and attach the full output.\n",
            "Cause: closure mismatch, requested ('self', 'step_function'), but source function had ()\n",
            "To silence this warning, decorate the function with @tf.autograph.experimental.do_not_convert\n"
          ]
        },
        {
          "output_type": "stream",
          "name": "stdout",
          "text": [
            "WARNING: AutoGraph could not transform <function Model.make_train_function.<locals>.train_function at 0x7ff46a8228b0> and will run it as-is.\n",
            "Please report this to the TensorFlow team. When filing the bug, set the verbosity to 10 (on Linux, `export AUTOGRAPH_VERBOSITY=10`) and attach the full output.\n",
            "Cause: closure mismatch, requested ('self', 'step_function'), but source function had ()\n",
            "To silence this warning, decorate the function with @tf.autograph.experimental.do_not_convert\n",
            "8/8 [==============================] - ETA: 0s - loss: 0.6708 - accuracy: 0.6403"
          ]
        },
        {
          "output_type": "stream",
          "name": "stderr",
          "text": [
            "WARNING:tensorflow:AutoGraph could not transform <function Model.make_test_function.<locals>.test_function at 0x7ff46a81e8b0> and will run it as-is.\n",
            "Cause: Unable to locate the source code of <function Model.make_test_function.<locals>.test_function at 0x7ff46a81e8b0>. Note that functions defined in certain environments, like the interactive Python shell, do not expose their source code. If that is the case, you should define them in a .py source file. If you are certain the code is graph-compatible, wrap the call using @tf.autograph.experimental.do_not_convert. Original error: lineno is out of bounds\n",
            "To silence this warning, decorate the function with @tf.autograph.experimental.do_not_convert\n"
          ]
        },
        {
          "output_type": "stream",
          "name": "stdout",
          "text": [
            "WARNING: AutoGraph could not transform <function Model.make_test_function.<locals>.test_function at 0x7ff46a81e8b0> and will run it as-is.\n",
            "Cause: Unable to locate the source code of <function Model.make_test_function.<locals>.test_function at 0x7ff46a81e8b0>. Note that functions defined in certain environments, like the interactive Python shell, do not expose their source code. If that is the case, you should define them in a .py source file. If you are certain the code is graph-compatible, wrap the call using @tf.autograph.experimental.do_not_convert. Original error: lineno is out of bounds\n",
            "To silence this warning, decorate the function with @tf.autograph.experimental.do_not_convert\n",
            "8/8 [==============================] - 7s 727ms/step - loss: 0.6708 - accuracy: 0.6403 - val_loss: 1.0395 - val_accuracy: 0.2530\n",
            "Epoch 2/30\n",
            "8/8 [==============================] - 5s 681ms/step - loss: 0.5238 - accuracy: 0.7747 - val_loss: 1.8491 - val_accuracy: 0.2648\n",
            "Epoch 3/30\n",
            "8/8 [==============================] - 5s 679ms/step - loss: 0.5763 - accuracy: 0.7233 - val_loss: 1.0862 - val_accuracy: 0.4269\n",
            "Epoch 4/30\n",
            "8/8 [==============================] - 5s 642ms/step - loss: 0.5748 - accuracy: 0.6957 - val_loss: 1.5037 - val_accuracy: 0.2055\n",
            "Epoch 5/30\n",
            "8/8 [==============================] - 5s 683ms/step - loss: 0.5465 - accuracy: 0.7154 - val_loss: 1.1203 - val_accuracy: 0.3162\n",
            "Epoch 6/30\n",
            "8/8 [==============================] - 5s 688ms/step - loss: 0.4930 - accuracy: 0.7787 - val_loss: 1.8002 - val_accuracy: 0.2885\n",
            "Epoch 7/30\n",
            "8/8 [==============================] - 5s 681ms/step - loss: 0.5090 - accuracy: 0.7352 - val_loss: 1.9184 - val_accuracy: 0.2648\n",
            "Epoch 8/30\n",
            "8/8 [==============================] - 6s 709ms/step - loss: 0.4739 - accuracy: 0.7747 - val_loss: 1.0912 - val_accuracy: 0.4348\n",
            "Epoch 9/30\n",
            "8/8 [==============================] - 5s 687ms/step - loss: 0.4409 - accuracy: 0.8142 - val_loss: 1.0361 - val_accuracy: 0.4625\n",
            "Epoch 10/30\n",
            "8/8 [==============================] - 7s 920ms/step - loss: 0.4915 - accuracy: 0.7431 - val_loss: 0.6303 - val_accuracy: 0.6126\n",
            "Epoch 11/30\n",
            "8/8 [==============================] - 5s 678ms/step - loss: 0.4635 - accuracy: 0.7787 - val_loss: 1.5627 - val_accuracy: 0.2648\n",
            "Epoch 12/30\n",
            "8/8 [==============================] - 4s 535ms/step - loss: 0.4408 - accuracy: 0.8103 - val_loss: 1.7809 - val_accuracy: 0.2727\n",
            "Epoch 13/30\n",
            "8/8 [==============================] - 4s 581ms/step - loss: 0.4027 - accuracy: 0.8182 - val_loss: 1.4798 - val_accuracy: 0.3992\n",
            "Epoch 14/30\n",
            "8/8 [==============================] - 5s 619ms/step - loss: 0.3933 - accuracy: 0.8300 - val_loss: 1.1112 - val_accuracy: 0.5059\n",
            "Epoch 15/30\n",
            "8/8 [==============================] - 4s 536ms/step - loss: 0.3954 - accuracy: 0.8182 - val_loss: 1.1634 - val_accuracy: 0.4506\n",
            "Epoch 16/30\n",
            "8/8 [==============================] - 5s 683ms/step - loss: 0.4090 - accuracy: 0.8142 - val_loss: 0.9835 - val_accuracy: 0.5375\n",
            "Epoch 17/30\n",
            "8/8 [==============================] - 5s 689ms/step - loss: 0.4041 - accuracy: 0.8379 - val_loss: 1.8495 - val_accuracy: 0.2925\n",
            "Epoch 18/30\n",
            "8/8 [==============================] - 7s 859ms/step - loss: 0.3400 - accuracy: 0.8656 - val_loss: 1.3176 - val_accuracy: 0.4625\n",
            "Epoch 19/30\n",
            "8/8 [==============================] - 5s 678ms/step - loss: 0.3321 - accuracy: 0.8696 - val_loss: 2.1564 - val_accuracy: 0.3281\n",
            "Epoch 20/30\n",
            "8/8 [==============================] - 4s 540ms/step - loss: 0.3394 - accuracy: 0.8300 - val_loss: 2.4892 - val_accuracy: 0.3083\n",
            "Epoch 21/30\n",
            "8/8 [==============================] - 5s 694ms/step - loss: 0.3702 - accuracy: 0.8300 - val_loss: 2.2235 - val_accuracy: 0.3083\n",
            "Epoch 22/30\n",
            "8/8 [==============================] - 5s 676ms/step - loss: 0.3485 - accuracy: 0.8379 - val_loss: 1.4857 - val_accuracy: 0.3992\n",
            "Epoch 23/30\n",
            "8/8 [==============================] - 6s 810ms/step - loss: 0.3517 - accuracy: 0.8419 - val_loss: 1.4060 - val_accuracy: 0.4269\n",
            "Epoch 24/30\n",
            "8/8 [==============================] - 4s 532ms/step - loss: 0.3218 - accuracy: 0.8775 - val_loss: 1.4031 - val_accuracy: 0.4545\n",
            "Epoch 25/30\n",
            "8/8 [==============================] - 6s 748ms/step - loss: 0.3123 - accuracy: 0.8735 - val_loss: 1.8674 - val_accuracy: 0.3755\n",
            "Epoch 26/30\n",
            "8/8 [==============================] - 4s 538ms/step - loss: 0.2880 - accuracy: 0.8656 - val_loss: 2.0524 - val_accuracy: 0.3636\n",
            "Epoch 27/30\n",
            "8/8 [==============================] - 6s 736ms/step - loss: 0.3070 - accuracy: 0.8656 - val_loss: 2.0433 - val_accuracy: 0.3597\n",
            "Epoch 28/30\n",
            "8/8 [==============================] - 4s 530ms/step - loss: 0.2691 - accuracy: 0.9091 - val_loss: 1.5437 - val_accuracy: 0.4427\n",
            "Epoch 29/30\n",
            "8/8 [==============================] - 6s 772ms/step - loss: 0.3464 - accuracy: 0.8696 - val_loss: 1.9721 - val_accuracy: 0.4071\n",
            "Epoch 30/30\n",
            "8/8 [==============================] - 5s 675ms/step - loss: 0.2598 - accuracy: 0.8893 - val_loss: 2.0098 - val_accuracy: 0.3913\n"
          ]
        },
        {
          "output_type": "execute_result",
          "data": {
            "text/plain": [
              "<keras.callbacks.History at 0x7ff46a821bb0>"
            ]
          },
          "metadata": {},
          "execution_count": 177
        }
      ]
    },
    {
      "cell_type": "markdown",
      "metadata": {
        "id": "U3PZasO0006Z"
      },
      "source": [
        "## Part 4 - Making a single prediction"
      ]
    },
    {
      "cell_type": "code",
      "source": [
        "import numpy as np\n",
        "#from keras.preprocessing import image\n",
        "import keras.utils as image"
      ],
      "metadata": {
        "id": "WvnwdeewCvpX"
      },
      "execution_count": null,
      "outputs": []
    },
    {
      "cell_type": "markdown",
      "source": [
        "Let's try to test our CNN on this brain that have a tumor already \n",
        "\n",
        "\n",
        "![tumor_yes.jpeg](data:image/jpeg;base64,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)"
      ],
      "metadata": {
        "id": "m829F92513K7"
      }
    },
    {
      "cell_type": "code",
      "metadata": {
        "id": "gsSiWEJY1BPB",
        "colab": {
          "base_uri": "https://localhost:8080/"
        },
        "outputId": "97412851-8842-4ef9-d67e-e4eee94ab553"
      },
      "source": [
        "test_image = image.load_img('/content/drive/MyDrive/data_brain_tumor/tumor_yes.jpeg', target_size = (64, 64))\n",
        "test_image = image.img_to_array(test_image)\n",
        "test_image = np.expand_dims(test_image, axis = 0)\n",
        "result = cnn.predict(test_image)\n",
        "training_set.class_indices\n",
        "if result[0][0] == 1:\n",
        "  prediction = 'This brain have a tumor'\n",
        "else:\n",
        "  prediction = 'This brain do NOT have a tumor'"
      ],
      "execution_count": null,
      "outputs": [
        {
          "output_type": "stream",
          "name": "stdout",
          "text": [
            "1/1 [==============================] - 0s 30ms/step\n"
          ]
        }
      ]
    },
    {
      "cell_type": "code",
      "metadata": {
        "id": "ED9KB3I54c1i",
        "colab": {
          "base_uri": "https://localhost:8080/"
        },
        "outputId": "bce2f3d2-d026-4632-a0c0-567d8ec13d24"
      },
      "source": [
        "print(prediction)"
      ],
      "execution_count": null,
      "outputs": [
        {
          "output_type": "stream",
          "name": "stdout",
          "text": [
            "This brain have a tumor\n"
          ]
        }
      ]
    }
  ]
}